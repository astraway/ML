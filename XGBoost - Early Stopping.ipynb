{
 "cells": [
  {
   "cell_type": "code",
   "execution_count": 1,
   "metadata": {},
   "outputs": [],
   "source": [
    "from numpy import loadtxt\n",
    "from xgboost import XGBClassifier\n",
    "from sklearn.model_selection import train_test_split\n",
    "from sklearn.metrics import accuracy_score\n"
   ]
  },
  {
   "cell_type": "code",
   "execution_count": 2,
   "metadata": {},
   "outputs": [],
   "source": [
    "dataset = loadtxt('pima.txt', delimiter =\",\")"
   ]
  },
  {
   "cell_type": "code",
   "execution_count": 3,
   "metadata": {},
   "outputs": [
    {
     "data": {
      "text/plain": [
       "array([[  6.   , 148.   ,  72.   , ...,   0.627,  50.   ,   1.   ],\n",
       "       [  1.   ,  85.   ,  66.   , ...,   0.351,  31.   ,   0.   ],\n",
       "       [  8.   , 183.   ,  64.   , ...,   0.672,  32.   ,   1.   ],\n",
       "       ...,\n",
       "       [  5.   , 121.   ,  72.   , ...,   0.245,  30.   ,   0.   ],\n",
       "       [  1.   , 126.   ,  60.   , ...,   0.349,  47.   ,   1.   ],\n",
       "       [  1.   ,  93.   ,  70.   , ...,   0.315,  23.   ,   0.   ]])"
      ]
     },
     "execution_count": 3,
     "metadata": {},
     "output_type": "execute_result"
    }
   ],
   "source": [
    "dataset"
   ]
  },
  {
   "cell_type": "code",
   "execution_count": 4,
   "metadata": {},
   "outputs": [],
   "source": [
    "x=dataset[:,0:8]\n",
    "y = dataset[:,8]"
   ]
  },
  {
   "cell_type": "code",
   "execution_count": 6,
   "metadata": {},
   "outputs": [],
   "source": [
    "seed = 7\n",
    "test_size = 0.30\n",
    "\n",
    "x_train, x_test, y_train, y_test = train_test_split(x,y,test_size = test_size, random_state = seed)"
   ]
  },
  {
   "cell_type": "code",
   "execution_count": 7,
   "metadata": {},
   "outputs": [],
   "source": [
    "model = XGBClassifier()"
   ]
  },
  {
   "cell_type": "code",
   "execution_count": 8,
   "metadata": {},
   "outputs": [
    {
     "data": {
      "text/plain": [
       "XGBClassifier(base_score=0.5, booster='gbtree', colsample_bylevel=1,\n",
       "       colsample_bynode=1, colsample_bytree=1, gamma=0, learning_rate=0.1,\n",
       "       max_delta_step=0, max_depth=3, min_child_weight=1, missing=None,\n",
       "       n_estimators=100, n_jobs=1, nthread=None,\n",
       "       objective='binary:logistic', random_state=0, reg_alpha=0,\n",
       "       reg_lambda=1, scale_pos_weight=1, seed=None, silent=None,\n",
       "       subsample=1, verbosity=1)"
      ]
     },
     "execution_count": 8,
     "metadata": {},
     "output_type": "execute_result"
    }
   ],
   "source": [
    "model.fit(x_train, y_train)"
   ]
  },
  {
   "cell_type": "code",
   "execution_count": 9,
   "metadata": {},
   "outputs": [
    {
     "name": "stdout",
     "output_type": "stream",
     "text": [
      "[0]\tvalidation_0-error:0.25974\n",
      "[1]\tvalidation_0-error:0.25974\n",
      "[2]\tvalidation_0-error:0.25974\n",
      "[3]\tvalidation_0-error:0.25974\n",
      "[4]\tvalidation_0-error:0.233766\n",
      "[5]\tvalidation_0-error:0.242424\n",
      "[6]\tvalidation_0-error:0.255411\n",
      "[7]\tvalidation_0-error:0.238095\n",
      "[8]\tvalidation_0-error:0.233766\n",
      "[9]\tvalidation_0-error:0.238095\n",
      "[10]\tvalidation_0-error:0.238095\n",
      "[11]\tvalidation_0-error:0.233766\n",
      "[12]\tvalidation_0-error:0.238095\n",
      "[13]\tvalidation_0-error:0.238095\n",
      "[14]\tvalidation_0-error:0.242424\n",
      "[15]\tvalidation_0-error:0.233766\n",
      "[16]\tvalidation_0-error:0.229437\n",
      "[17]\tvalidation_0-error:0.229437\n",
      "[18]\tvalidation_0-error:0.229437\n",
      "[19]\tvalidation_0-error:0.229437\n",
      "[20]\tvalidation_0-error:0.229437\n",
      "[21]\tvalidation_0-error:0.229437\n",
      "[22]\tvalidation_0-error:0.238095\n",
      "[23]\tvalidation_0-error:0.225108\n",
      "[24]\tvalidation_0-error:0.212121\n",
      "[25]\tvalidation_0-error:0.220779\n",
      "[26]\tvalidation_0-error:0.220779\n",
      "[27]\tvalidation_0-error:0.212121\n",
      "[28]\tvalidation_0-error:0.21645\n",
      "[29]\tvalidation_0-error:0.21645\n",
      "[30]\tvalidation_0-error:0.207792\n",
      "[31]\tvalidation_0-error:0.207792\n",
      "[32]\tvalidation_0-error:0.212121\n",
      "[33]\tvalidation_0-error:0.207792\n",
      "[34]\tvalidation_0-error:0.207792\n",
      "[35]\tvalidation_0-error:0.21645\n",
      "[36]\tvalidation_0-error:0.207792\n",
      "[37]\tvalidation_0-error:0.207792\n",
      "[38]\tvalidation_0-error:0.21645\n",
      "[39]\tvalidation_0-error:0.212121\n",
      "[40]\tvalidation_0-error:0.212121\n",
      "[41]\tvalidation_0-error:0.21645\n",
      "[42]\tvalidation_0-error:0.21645\n",
      "[43]\tvalidation_0-error:0.21645\n",
      "[44]\tvalidation_0-error:0.220779\n",
      "[45]\tvalidation_0-error:0.220779\n",
      "[46]\tvalidation_0-error:0.229437\n",
      "[47]\tvalidation_0-error:0.229437\n",
      "[48]\tvalidation_0-error:0.229437\n",
      "[49]\tvalidation_0-error:0.233766\n",
      "[50]\tvalidation_0-error:0.225108\n",
      "[51]\tvalidation_0-error:0.229437\n",
      "[52]\tvalidation_0-error:0.225108\n",
      "[53]\tvalidation_0-error:0.229437\n",
      "[54]\tvalidation_0-error:0.229437\n",
      "[55]\tvalidation_0-error:0.229437\n",
      "[56]\tvalidation_0-error:0.229437\n",
      "[57]\tvalidation_0-error:0.229437\n",
      "[58]\tvalidation_0-error:0.229437\n",
      "[59]\tvalidation_0-error:0.220779\n",
      "[60]\tvalidation_0-error:0.225108\n",
      "[61]\tvalidation_0-error:0.225108\n",
      "[62]\tvalidation_0-error:0.225108\n",
      "[63]\tvalidation_0-error:0.225108\n",
      "[64]\tvalidation_0-error:0.220779\n",
      "[65]\tvalidation_0-error:0.21645\n",
      "[66]\tvalidation_0-error:0.21645\n",
      "[67]\tvalidation_0-error:0.21645\n",
      "[68]\tvalidation_0-error:0.212121\n",
      "[69]\tvalidation_0-error:0.212121\n",
      "[70]\tvalidation_0-error:0.212121\n",
      "[71]\tvalidation_0-error:0.212121\n",
      "[72]\tvalidation_0-error:0.212121\n",
      "[73]\tvalidation_0-error:0.212121\n",
      "[74]\tvalidation_0-error:0.212121\n",
      "[75]\tvalidation_0-error:0.21645\n",
      "[76]\tvalidation_0-error:0.21645\n",
      "[77]\tvalidation_0-error:0.21645\n",
      "[78]\tvalidation_0-error:0.21645\n",
      "[79]\tvalidation_0-error:0.21645\n",
      "[80]\tvalidation_0-error:0.21645\n",
      "[81]\tvalidation_0-error:0.212121\n",
      "[82]\tvalidation_0-error:0.21645\n",
      "[83]\tvalidation_0-error:0.21645\n",
      "[84]\tvalidation_0-error:0.21645\n",
      "[85]\tvalidation_0-error:0.212121\n",
      "[86]\tvalidation_0-error:0.21645\n",
      "[87]\tvalidation_0-error:0.212121\n",
      "[88]\tvalidation_0-error:0.21645\n",
      "[89]\tvalidation_0-error:0.21645\n",
      "[90]\tvalidation_0-error:0.220779\n",
      "[91]\tvalidation_0-error:0.21645\n",
      "[92]\tvalidation_0-error:0.21645\n",
      "[93]\tvalidation_0-error:0.220779\n",
      "[94]\tvalidation_0-error:0.225108\n",
      "[95]\tvalidation_0-error:0.225108\n",
      "[96]\tvalidation_0-error:0.225108\n",
      "[97]\tvalidation_0-error:0.212121\n",
      "[98]\tvalidation_0-error:0.21645\n",
      "[99]\tvalidation_0-error:0.220779\n"
     ]
    },
    {
     "data": {
      "text/plain": [
       "XGBClassifier(base_score=0.5, booster='gbtree', colsample_bylevel=1,\n",
       "       colsample_bynode=1, colsample_bytree=1, gamma=0, learning_rate=0.1,\n",
       "       max_delta_step=0, max_depth=3, min_child_weight=1, missing=None,\n",
       "       n_estimators=100, n_jobs=1, nthread=None,\n",
       "       objective='binary:logistic', random_state=0, reg_alpha=0,\n",
       "       reg_lambda=1, scale_pos_weight=1, seed=None, silent=None,\n",
       "       subsample=1, verbosity=1)"
      ]
     },
     "execution_count": 9,
     "metadata": {},
     "output_type": "execute_result"
    }
   ],
   "source": [
    "eval_set = [(x_test, y_test)]\n",
    "model.fit(x_train, y_train, eval_metric=\"error\", eval_set=eval_set, verbose = True)"
   ]
  },
  {
   "cell_type": "code",
   "execution_count": 10,
   "metadata": {},
   "outputs": [
    {
     "name": "stdout",
     "output_type": "stream",
     "text": [
      "[0]\tvalidation_0-error:0.25974\n",
      "Will train until validation_0-error hasn't improved in 36 rounds.\n",
      "[1]\tvalidation_0-error:0.25974\n",
      "[2]\tvalidation_0-error:0.25974\n",
      "[3]\tvalidation_0-error:0.25974\n",
      "[4]\tvalidation_0-error:0.233766\n",
      "[5]\tvalidation_0-error:0.242424\n",
      "[6]\tvalidation_0-error:0.255411\n",
      "[7]\tvalidation_0-error:0.238095\n",
      "[8]\tvalidation_0-error:0.233766\n",
      "[9]\tvalidation_0-error:0.238095\n",
      "[10]\tvalidation_0-error:0.238095\n",
      "[11]\tvalidation_0-error:0.233766\n",
      "[12]\tvalidation_0-error:0.238095\n",
      "[13]\tvalidation_0-error:0.238095\n",
      "[14]\tvalidation_0-error:0.242424\n",
      "[15]\tvalidation_0-error:0.233766\n",
      "[16]\tvalidation_0-error:0.229437\n",
      "[17]\tvalidation_0-error:0.229437\n",
      "[18]\tvalidation_0-error:0.229437\n",
      "[19]\tvalidation_0-error:0.229437\n",
      "[20]\tvalidation_0-error:0.229437\n",
      "[21]\tvalidation_0-error:0.229437\n",
      "[22]\tvalidation_0-error:0.238095\n",
      "[23]\tvalidation_0-error:0.225108\n",
      "[24]\tvalidation_0-error:0.212121\n",
      "[25]\tvalidation_0-error:0.220779\n",
      "[26]\tvalidation_0-error:0.220779\n",
      "[27]\tvalidation_0-error:0.212121\n",
      "[28]\tvalidation_0-error:0.21645\n",
      "[29]\tvalidation_0-error:0.21645\n",
      "[30]\tvalidation_0-error:0.207792\n",
      "[31]\tvalidation_0-error:0.207792\n",
      "[32]\tvalidation_0-error:0.212121\n",
      "[33]\tvalidation_0-error:0.207792\n",
      "[34]\tvalidation_0-error:0.207792\n",
      "[35]\tvalidation_0-error:0.21645\n",
      "[36]\tvalidation_0-error:0.207792\n",
      "[37]\tvalidation_0-error:0.207792\n",
      "[38]\tvalidation_0-error:0.21645\n",
      "[39]\tvalidation_0-error:0.212121\n",
      "[40]\tvalidation_0-error:0.212121\n",
      "[41]\tvalidation_0-error:0.21645\n",
      "[42]\tvalidation_0-error:0.21645\n",
      "[43]\tvalidation_0-error:0.21645\n",
      "[44]\tvalidation_0-error:0.220779\n",
      "[45]\tvalidation_0-error:0.220779\n",
      "[46]\tvalidation_0-error:0.229437\n",
      "[47]\tvalidation_0-error:0.229437\n",
      "[48]\tvalidation_0-error:0.229437\n",
      "[49]\tvalidation_0-error:0.233766\n",
      "[50]\tvalidation_0-error:0.225108\n",
      "[51]\tvalidation_0-error:0.229437\n",
      "[52]\tvalidation_0-error:0.225108\n",
      "[53]\tvalidation_0-error:0.229437\n",
      "[54]\tvalidation_0-error:0.229437\n",
      "[55]\tvalidation_0-error:0.229437\n",
      "[56]\tvalidation_0-error:0.229437\n",
      "[57]\tvalidation_0-error:0.229437\n",
      "[58]\tvalidation_0-error:0.229437\n",
      "[59]\tvalidation_0-error:0.220779\n",
      "[60]\tvalidation_0-error:0.225108\n",
      "[61]\tvalidation_0-error:0.225108\n",
      "[62]\tvalidation_0-error:0.225108\n",
      "[63]\tvalidation_0-error:0.225108\n",
      "[64]\tvalidation_0-error:0.220779\n",
      "[65]\tvalidation_0-error:0.21645\n",
      "[66]\tvalidation_0-error:0.21645\n",
      "Stopping. Best iteration:\n",
      "[30]\tvalidation_0-error:0.207792\n",
      "\n"
     ]
    },
    {
     "data": {
      "text/plain": [
       "XGBClassifier(base_score=0.5, booster='gbtree', colsample_bylevel=1,\n",
       "       colsample_bynode=1, colsample_bytree=1, gamma=0, learning_rate=0.1,\n",
       "       max_delta_step=0, max_depth=3, min_child_weight=1, missing=None,\n",
       "       n_estimators=100, n_jobs=1, nthread=None,\n",
       "       objective='binary:logistic', random_state=0, reg_alpha=0,\n",
       "       reg_lambda=1, scale_pos_weight=1, seed=None, silent=None,\n",
       "       subsample=1, verbosity=1)"
      ]
     },
     "execution_count": 10,
     "metadata": {},
     "output_type": "execute_result"
    }
   ],
   "source": [
    "#look to see lowest error and set early_stopping_rounds to that round\n",
    "eval_set = [(x_test, y_test)]\n",
    "model.fit(x_train, y_train, eval_metric=\"error\", early_stopping_rounds=36,  eval_set=eval_set, verbose = True)"
   ]
  },
  {
   "cell_type": "code",
   "execution_count": 11,
   "metadata": {},
   "outputs": [],
   "source": [
    "import warnings\n",
    "warnings.filterwarnings(\"ignore\", category = DeprecationWarning)"
   ]
  },
  {
   "cell_type": "code",
   "execution_count": 12,
   "metadata": {},
   "outputs": [
    {
     "name": "stdout",
     "output_type": "stream",
     "text": [
      "Accuracy: 79.22%\n"
     ]
    }
   ],
   "source": [
    "y_pred = model.predict(x_test)\n",
    "predictions = [round(value) for value in y_pred]\n",
    "\n",
    "accuracy = accuracy_score(y_test, predictions)\n",
    "print(\"Accuracy: %.2f%%\" % (accuracy* 100.0))"
   ]
  },
  {
   "cell_type": "code",
   "execution_count": null,
   "metadata": {},
   "outputs": [],
   "source": []
  },
  {
   "cell_type": "code",
   "execution_count": null,
   "metadata": {},
   "outputs": [],
   "source": []
  }
 ],
 "metadata": {
  "kernelspec": {
   "display_name": "Python 3",
   "language": "python",
   "name": "python3"
  },
  "language_info": {
   "codemirror_mode": {
    "name": "ipython",
    "version": 3
   },
   "file_extension": ".py",
   "mimetype": "text/x-python",
   "name": "python",
   "nbconvert_exporter": "python",
   "pygments_lexer": "ipython3",
   "version": "3.7.1"
  }
 },
 "nbformat": 4,
 "nbformat_minor": 2
}
